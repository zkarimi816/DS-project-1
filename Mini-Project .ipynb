{
 "cells": [
  {
   "cell_type": "code",
   "execution_count": 1,
   "id": "afd63f25",
   "metadata": {},
   "outputs": [],
   "source": [
    "#Data= https://www.kaggle.com/code/manchunhui/wdi-dataset-preliminary-eda/notebook\n",
    "#path= './mini-project/WDIData_T.csv'"
   ]
  },
  {
   "cell_type": "markdown",
   "id": "ee8ab75b",
   "metadata": {},
   "source": [
    "<h1 style = 'font-size: 2.5em ; color:#008B8B ; font-family: lato; text-align: center'>\n",
    "    World Development Indicators</h1>\n",
    "<p style = 'font-size: 1.5em ; color: #008B8B ; font-family: lato; text-align: center'>\n",
    "    Source: World Bank via Kaggle\n",
    "    </p>\n",
    "<p style = 'font-size: 1.3 em; color:#008B8B ; font-family: lato ; text-align: center'>\n",
    "    UCSD Week 6 Project\n",
    "    Zahra Karimi \n",
    "\n",
    "</p>\n"
   ]
  },
  {
   "cell_type": "markdown",
   "id": "66eee55b",
   "metadata": {},
   "source": [
    "<h2 style = \"font-size: 2em ; color: #045F5F\" > Data Exploration</h2>"
   ]
  },
  {
   "cell_type": "code",
   "execution_count": 22,
   "id": "2fc2251f",
   "metadata": {},
   "outputs": [],
   "source": [
    "#importing all necessary libraries\n",
    "\n",
    "import numpy as np\n",
    "import pandas as pd \n",
    "import matplotlib.pyplot as plt \n",
    "import random \n",
    "import folium "
   ]
  },
  {
   "cell_type": "code",
   "execution_count": 8,
   "id": "2a3210a6",
   "metadata": {},
   "outputs": [
    {
     "name": "stdout",
     "output_type": "stream",
     "text": [
      "(7578806, 6)\n"
     ]
    }
   ],
   "source": [
    "data = pd.read_csv('./WDIData_T.csv')\n",
    "print(data.shape)"
   ]
  },
  {
   "cell_type": "code",
   "execution_count": 9,
   "id": "34d92ddc",
   "metadata": {},
   "outputs": [
    {
     "data": {
      "text/plain": [
       "pandas.core.frame.DataFrame"
      ]
     },
     "execution_count": 9,
     "metadata": {},
     "output_type": "execute_result"
    }
   ],
   "source": [
    "type(data)"
   ]
  },
  {
   "cell_type": "code",
   "execution_count": 12,
   "id": "5fab6a06",
   "metadata": {},
   "outputs": [
    {
     "data": {
      "text/html": [
       "<div>\n",
       "<style scoped>\n",
       "    .dataframe tbody tr th:only-of-type {\n",
       "        vertical-align: middle;\n",
       "    }\n",
       "\n",
       "    .dataframe tbody tr th {\n",
       "        vertical-align: top;\n",
       "    }\n",
       "\n",
       "    .dataframe thead th {\n",
       "        text-align: right;\n",
       "    }\n",
       "</style>\n",
       "<table border=\"1\" class=\"dataframe\">\n",
       "  <thead>\n",
       "    <tr style=\"text-align: right;\">\n",
       "      <th></th>\n",
       "      <th>CountryName</th>\n",
       "      <th>CountryCode</th>\n",
       "      <th>IndicatorName</th>\n",
       "      <th>IndicatorCode</th>\n",
       "      <th>Year</th>\n",
       "      <th>Value</th>\n",
       "    </tr>\n",
       "  </thead>\n",
       "  <tbody>\n",
       "    <tr>\n",
       "      <th>0</th>\n",
       "      <td>Arab World</td>\n",
       "      <td>ARB</td>\n",
       "      <td>Adolescent fertility rate (births per 1,000 wo...</td>\n",
       "      <td>SP.ADO.TFRT</td>\n",
       "      <td>1960</td>\n",
       "      <td>134.772341</td>\n",
       "    </tr>\n",
       "    <tr>\n",
       "      <th>1</th>\n",
       "      <td>Arab World</td>\n",
       "      <td>ARB</td>\n",
       "      <td>Age dependency ratio (% of working-age populat...</td>\n",
       "      <td>SP.POP.DPND</td>\n",
       "      <td>1960</td>\n",
       "      <td>88.061110</td>\n",
       "    </tr>\n",
       "    <tr>\n",
       "      <th>2</th>\n",
       "      <td>Arab World</td>\n",
       "      <td>ARB</td>\n",
       "      <td>Age dependency ratio, old (% of working-age po...</td>\n",
       "      <td>SP.POP.DPND.OL</td>\n",
       "      <td>1960</td>\n",
       "      <td>6.591951</td>\n",
       "    </tr>\n",
       "    <tr>\n",
       "      <th>3</th>\n",
       "      <td>Arab World</td>\n",
       "      <td>ARB</td>\n",
       "      <td>Age dependency ratio, young (% of working-age ...</td>\n",
       "      <td>SP.POP.DPND.YG</td>\n",
       "      <td>1960</td>\n",
       "      <td>81.324186</td>\n",
       "    </tr>\n",
       "    <tr>\n",
       "      <th>4</th>\n",
       "      <td>Arab World</td>\n",
       "      <td>ARB</td>\n",
       "      <td>Aquaculture production (metric tons)</td>\n",
       "      <td>ER.FSH.AQUA.MT</td>\n",
       "      <td>1960</td>\n",
       "      <td>4600.000000</td>\n",
       "    </tr>\n",
       "  </tbody>\n",
       "</table>\n",
       "</div>"
      ],
      "text/plain": [
       "  CountryName CountryCode                                      IndicatorName  \\\n",
       "0  Arab World         ARB  Adolescent fertility rate (births per 1,000 wo...   \n",
       "1  Arab World         ARB  Age dependency ratio (% of working-age populat...   \n",
       "2  Arab World         ARB  Age dependency ratio, old (% of working-age po...   \n",
       "3  Arab World         ARB  Age dependency ratio, young (% of working-age ...   \n",
       "4  Arab World         ARB               Aquaculture production (metric tons)   \n",
       "\n",
       "    IndicatorCode  Year        Value  \n",
       "0     SP.ADO.TFRT  1960   134.772341  \n",
       "1     SP.POP.DPND  1960    88.061110  \n",
       "2  SP.POP.DPND.OL  1960     6.591951  \n",
       "3  SP.POP.DPND.YG  1960    81.324186  \n",
       "4  ER.FSH.AQUA.MT  1960  4600.000000  "
      ]
     },
     "execution_count": 12,
     "metadata": {},
     "output_type": "execute_result"
    }
   ],
   "source": [
    "data.head()"
   ]
  },
  {
   "cell_type": "markdown",
   "id": "c8b39eb7",
   "metadata": {},
   "source": [
    "The dataset has **7578806** rows and **6** columns. The dataset includes different indicators for different countries with the year and value of the indicator."
   ]
  },
  {
   "cell_type": "code",
   "execution_count": 27,
   "id": "d1f7457f",
   "metadata": {},
   "outputs": [
    {
     "data": {
      "text/plain": [
       "CountryName      0\n",
       "CountryCode      0\n",
       "IndicatorName    0\n",
       "IndicatorCode    0\n",
       "Year             0\n",
       "Value            0\n",
       "dtype: int64"
      ]
     },
     "execution_count": 27,
     "metadata": {},
     "output_type": "execute_result"
    }
   ],
   "source": [
    "#How many missing values do we have?\n",
    "data.isnull().sum()"
   ]
  },
  {
   "cell_type": "code",
   "execution_count": 28,
   "id": "d0a161fb",
   "metadata": {},
   "outputs": [
    {
     "name": "stdout",
     "output_type": "stream",
     "text": [
      "<class 'pandas.core.frame.DataFrame'>\n",
      "RangeIndex: 7578806 entries, 0 to 7578805\n",
      "Data columns (total 6 columns):\n",
      " #   Column         Dtype  \n",
      "---  ------         -----  \n",
      " 0   CountryName    object \n",
      " 1   CountryCode    object \n",
      " 2   IndicatorName  object \n",
      " 3   IndicatorCode  object \n",
      " 4   Year           int64  \n",
      " 5   Value          float64\n",
      "dtypes: float64(1), int64(1), object(4)\n",
      "memory usage: 346.9+ MB\n"
     ]
    }
   ],
   "source": [
    "#what is the data type of each column?\n",
    "data.info()"
   ]
  },
  {
   "cell_type": "code",
   "execution_count": 15,
   "id": "c72b153e",
   "metadata": {},
   "outputs": [
    {
     "data": {
      "text/plain": [
       "263"
      ]
     },
     "execution_count": 15,
     "metadata": {},
     "output_type": "execute_result"
    }
   ],
   "source": [
    "#How many countries do we have?\n",
    "countries = data['CountryName'].unique().tolist()\n",
    "len(countries)"
   ]
  },
  {
   "cell_type": "code",
   "execution_count": 17,
   "id": "29a4d4ac",
   "metadata": {},
   "outputs": [
    {
     "data": {
      "text/plain": [
       "263"
      ]
     },
     "execution_count": 17,
     "metadata": {},
     "output_type": "execute_result"
    }
   ],
   "source": [
    "# Are there same number of country codes?\n",
    "countrycodes = data['CountryCode'].unique().tolist()\n",
    "len(countrycodes)"
   ]
  },
  {
   "cell_type": "code",
   "execution_count": 34,
   "id": "b6c31cc7",
   "metadata": {},
   "outputs": [
    {
     "data": {
      "text/plain": [
       "1437"
      ]
     },
     "execution_count": 34,
     "metadata": {},
     "output_type": "execute_result"
    }
   ],
   "source": [
    "#How many unique indicators do we have?\n",
    "indicators = data['IndicatorName'].unique().tolist()\n",
    "len(indicators)\n"
   ]
  },
  {
   "cell_type": "code",
   "execution_count": 20,
   "id": "d8772550",
   "metadata": {},
   "outputs": [
    {
     "data": {
      "text/plain": [
       "61"
      ]
     },
     "execution_count": 20,
     "metadata": {},
     "output_type": "execute_result"
    }
   ],
   "source": [
    "#How many years of data do we have?\n",
    "years = data['Year'].unique().tolist()\n",
    "len(years)"
   ]
  },
  {
   "cell_type": "code",
   "execution_count": 21,
   "id": "39006156",
   "metadata": {},
   "outputs": [
    {
     "name": "stdout",
     "output_type": "stream",
     "text": [
      "1960  to  2020\n"
     ]
    }
   ],
   "source": [
    "#what is the range of years?\n",
    "print(min(years) , \" to \", max(years))"
   ]
  },
  {
   "cell_type": "markdown",
   "id": "6ce1201b",
   "metadata": {},
   "source": [
    "<h2 style = \"font-size: 2em ; color: #045F5F\" > Research Question</h2>"
   ]
  },
  {
   "cell_type": "markdown",
   "id": "08b64aae",
   "metadata": {},
   "source": [
    "Is there a relationship between Labor force participation and GDP per capita in Japan?"
   ]
  },
  {
   "cell_type": "code",
   "execution_count": 57,
   "id": "38add1d2",
   "metadata": {},
   "outputs": [],
   "source": [
    "mask1 = data['CountryName'].str.contains('Japan')\n",
    "mask2 = data['IndicatorName'].str.contains('Labor force participation rate, total \\(% of total population ages 15\\+\\) \\(national estimate\\)')\n",
    "\n",
    "labor_force = data[mask1 & mask2]"
   ]
  },
  {
   "cell_type": "code",
   "execution_count": 60,
   "id": "465789f6",
   "metadata": {
    "scrolled": true
   },
   "outputs": [
    {
     "data": {
      "text/html": [
       "<div>\n",
       "<style scoped>\n",
       "    .dataframe tbody tr th:only-of-type {\n",
       "        vertical-align: middle;\n",
       "    }\n",
       "\n",
       "    .dataframe tbody tr th {\n",
       "        vertical-align: top;\n",
       "    }\n",
       "\n",
       "    .dataframe thead th {\n",
       "        text-align: right;\n",
       "    }\n",
       "</style>\n",
       "<table border=\"1\" class=\"dataframe\">\n",
       "  <thead>\n",
       "    <tr style=\"text-align: right;\">\n",
       "      <th></th>\n",
       "      <th>CountryName</th>\n",
       "      <th>CountryCode</th>\n",
       "      <th>IndicatorName</th>\n",
       "      <th>IndicatorCode</th>\n",
       "      <th>Year</th>\n",
       "      <th>Value</th>\n",
       "    </tr>\n",
       "  </thead>\n",
       "  <tbody>\n",
       "    <tr>\n",
       "      <th>21785</th>\n",
       "      <td>Japan</td>\n",
       "      <td>JPN</td>\n",
       "      <td>Labor force participation rate, total (% of to...</td>\n",
       "      <td>SL.TLF.CACT.NE.ZS</td>\n",
       "      <td>1960</td>\n",
       "      <td>69.199997</td>\n",
       "    </tr>\n",
       "    <tr>\n",
       "      <th>62040</th>\n",
       "      <td>Japan</td>\n",
       "      <td>JPN</td>\n",
       "      <td>Labor force participation rate, total (% of to...</td>\n",
       "      <td>SL.TLF.CACT.NE.ZS</td>\n",
       "      <td>1961</td>\n",
       "      <td>69.099998</td>\n",
       "    </tr>\n",
       "    <tr>\n",
       "      <th>105333</th>\n",
       "      <td>Japan</td>\n",
       "      <td>JPN</td>\n",
       "      <td>Labor force participation rate, total (% of to...</td>\n",
       "      <td>SL.TLF.CACT.NE.ZS</td>\n",
       "      <td>1962</td>\n",
       "      <td>68.300003</td>\n",
       "    </tr>\n",
       "    <tr>\n",
       "      <th>149555</th>\n",
       "      <td>Japan</td>\n",
       "      <td>JPN</td>\n",
       "      <td>Labor force participation rate, total (% of to...</td>\n",
       "      <td>SL.TLF.CACT.NE.ZS</td>\n",
       "      <td>1963</td>\n",
       "      <td>67.099998</td>\n",
       "    </tr>\n",
       "    <tr>\n",
       "      <th>193962</th>\n",
       "      <td>Japan</td>\n",
       "      <td>JPN</td>\n",
       "      <td>Labor force participation rate, total (% of to...</td>\n",
       "      <td>SL.TLF.CACT.NE.ZS</td>\n",
       "      <td>1964</td>\n",
       "      <td>66.099998</td>\n",
       "    </tr>\n",
       "  </tbody>\n",
       "</table>\n",
       "</div>"
      ],
      "text/plain": [
       "       CountryName CountryCode  \\\n",
       "21785        Japan         JPN   \n",
       "62040        Japan         JPN   \n",
       "105333       Japan         JPN   \n",
       "149555       Japan         JPN   \n",
       "193962       Japan         JPN   \n",
       "\n",
       "                                            IndicatorName      IndicatorCode  \\\n",
       "21785   Labor force participation rate, total (% of to...  SL.TLF.CACT.NE.ZS   \n",
       "62040   Labor force participation rate, total (% of to...  SL.TLF.CACT.NE.ZS   \n",
       "105333  Labor force participation rate, total (% of to...  SL.TLF.CACT.NE.ZS   \n",
       "149555  Labor force participation rate, total (% of to...  SL.TLF.CACT.NE.ZS   \n",
       "193962  Labor force participation rate, total (% of to...  SL.TLF.CACT.NE.ZS   \n",
       "\n",
       "        Year      Value  \n",
       "21785   1960  69.199997  \n",
       "62040   1961  69.099998  \n",
       "105333  1962  68.300003  \n",
       "149555  1963  67.099998  \n",
       "193962  1964  66.099998  "
      ]
     },
     "execution_count": 60,
     "metadata": {},
     "output_type": "execute_result"
    }
   ],
   "source": [
    "labor_force.head()"
   ]
  },
  {
   "cell_type": "markdown",
   "id": "2bba3a69",
   "metadata": {},
   "source": [
    "Figure 1. Labor Force participation indicator of Japan Bar chart "
   ]
  },
  {
   "cell_type": "code",
   "execution_count": 64,
   "id": "c456f025",
   "metadata": {},
   "outputs": [
    {
     "data": {
      "image/png": "[encoded data removed]",
      "text/plain": [
       "<Figure size 640x480 with 1 Axes>"
      ]
     },
     "metadata": {},
     "output_type": "display_data"
    }
   ],
   "source": [
    "#switch to a line plot \n",
    "plt.plot(labor_force ['Year'].values , labor_force['Value'])\n",
    "\n",
    "#label the axes\n",
    "plt.xlabel('Year')\n",
    "plt.ylabel ('Total labor force participation')\n",
    "\n",
    "#label the figure\n",
    "plt.title(\"Labor force participatin in Japan from 1960 to 2020\")\n",
    "\n",
    "#adding annotations\n",
    "#for y,x in zip(labor_force['Value'].values, labor_force['Year'].values):\n",
    "    #plt.annotate(f'{int(y)}\\n', xycoords = 'data', xy = (x,y), ha=\"center\", va=\"center\")\n",
    "    \n",
    "plt.show()"
   ]
  },
  {
   "cell_type": "code",
   "execution_count": 69,
   "id": "85468f56",
   "metadata": {},
   "outputs": [
    {
     "name": "stdout",
     "output_type": "stream",
     "text": [
      "Maximum Labor Force Participation Rate:  59.0999984741211 in year 1960\n",
      "Minimum Labor Force Participation Rate:  69.1999969482422 in year 2012\n"
     ]
    }
   ],
   "source": [
    "#Finding the minimum and maximum of labor participation \n",
    "min_labor = labor_force['Value'].max()\n",
    "max_labor = labor_force['Value']. min()\n",
    "\n",
    "#Finding the corresponding year \n",
    "year_of_max = labor_force.loc[labor_force['Value'].idxmax()]['Year']\n",
    "year_of_min = labor_force.loc[labor_force['Value'].idxmin()]['Year']\n",
    "\n",
    "print(\"Maximum Labor Force Participation Rate: \", max_labor,\"in year\", year_of_max)\n",
    "print(\"Minimum Labor Force Participation Rate: \", min_labor, \"in year\", year_of_min)\n"
   ]
  },
  {
   "cell_type": "markdown",
   "id": "db3b81b7",
   "metadata": {},
   "source": [
    "**GDP per capita**"
   ]
  },
  {
   "cell_type": "code",
   "execution_count": 71,
   "id": "69143f2e",
   "metadata": {},
   "outputs": [],
   "source": [
    "mask1 = data['CountryName'].str.contains('Japan')\n",
    "mask2 = data['IndicatorName'].str.contains('GDP per capita \\(constant 2010 US\\$\\)')\n",
    "\n",
    "GDP_per_capita = data[mask1 & mask2]"
   ]
  },
  {
   "cell_type": "code",
   "execution_count": 73,
   "id": "bf2b5aee",
   "metadata": {},
   "outputs": [
    {
     "data": {
      "text/html": [
       "<div>\n",
       "<style scoped>\n",
       "    .dataframe tbody tr th:only-of-type {\n",
       "        vertical-align: middle;\n",
       "    }\n",
       "\n",
       "    .dataframe tbody tr th {\n",
       "        vertical-align: top;\n",
       "    }\n",
       "\n",
       "    .dataframe thead th {\n",
       "        text-align: right;\n",
       "    }\n",
       "</style>\n",
       "<table border=\"1\" class=\"dataframe\">\n",
       "  <thead>\n",
       "    <tr style=\"text-align: right;\">\n",
       "      <th></th>\n",
       "      <th>CountryName</th>\n",
       "      <th>CountryCode</th>\n",
       "      <th>IndicatorName</th>\n",
       "      <th>IndicatorCode</th>\n",
       "      <th>Year</th>\n",
       "      <th>Value</th>\n",
       "    </tr>\n",
       "  </thead>\n",
       "  <tbody>\n",
       "    <tr>\n",
       "      <th>21772</th>\n",
       "      <td>Japan</td>\n",
       "      <td>JPN</td>\n",
       "      <td>GDP per capita (constant 2010 US$)</td>\n",
       "      <td>NY.GDP.PCAP.KD</td>\n",
       "      <td>1960</td>\n",
       "      <td>8607.657082</td>\n",
       "    </tr>\n",
       "    <tr>\n",
       "      <th>62027</th>\n",
       "      <td>Japan</td>\n",
       "      <td>JPN</td>\n",
       "      <td>GDP per capita (constant 2010 US$)</td>\n",
       "      <td>NY.GDP.PCAP.KD</td>\n",
       "      <td>1961</td>\n",
       "      <td>9396.221214</td>\n",
       "    </tr>\n",
       "    <tr>\n",
       "      <th>105318</th>\n",
       "      <td>Japan</td>\n",
       "      <td>JPN</td>\n",
       "      <td>GDP per capita (constant 2010 US$)</td>\n",
       "      <td>NY.GDP.PCAP.KD</td>\n",
       "      <td>1962</td>\n",
       "      <td>10138.397014</td>\n",
       "    </tr>\n",
       "    <tr>\n",
       "      <th>149540</th>\n",
       "      <td>Japan</td>\n",
       "      <td>JPN</td>\n",
       "      <td>GDP per capita (constant 2010 US$)</td>\n",
       "      <td>NY.GDP.PCAP.KD</td>\n",
       "      <td>1963</td>\n",
       "      <td>10886.164111</td>\n",
       "    </tr>\n",
       "    <tr>\n",
       "      <th>193947</th>\n",
       "      <td>Japan</td>\n",
       "      <td>JPN</td>\n",
       "      <td>GDP per capita (constant 2010 US$)</td>\n",
       "      <td>NY.GDP.PCAP.KD</td>\n",
       "      <td>1964</td>\n",
       "      <td>12031.295048</td>\n",
       "    </tr>\n",
       "  </tbody>\n",
       "</table>\n",
       "</div>"
      ],
      "text/plain": [
       "       CountryName CountryCode                       IndicatorName  \\\n",
       "21772        Japan         JPN  GDP per capita (constant 2010 US$)   \n",
       "62027        Japan         JPN  GDP per capita (constant 2010 US$)   \n",
       "105318       Japan         JPN  GDP per capita (constant 2010 US$)   \n",
       "149540       Japan         JPN  GDP per capita (constant 2010 US$)   \n",
       "193947       Japan         JPN  GDP per capita (constant 2010 US$)   \n",
       "\n",
       "         IndicatorCode  Year         Value  \n",
       "21772   NY.GDP.PCAP.KD  1960   8607.657082  \n",
       "62027   NY.GDP.PCAP.KD  1961   9396.221214  \n",
       "105318  NY.GDP.PCAP.KD  1962  10138.397014  \n",
       "149540  NY.GDP.PCAP.KD  1963  10886.164111  \n",
       "193947  NY.GDP.PCAP.KD  1964  12031.295048  "
      ]
     },
     "execution_count": 73,
     "metadata": {},
     "output_type": "execute_result"
    }
   ],
   "source": [
    "GDP_per_capita.head()"
   ]
  },
  {
   "cell_type": "code",
   "execution_count": 74,
   "id": "f438874e",
   "metadata": {},
   "outputs": [
    {
     "data": {
      "image/png": "[encoded data removed]",
      "text/plain": [
       "<Figure size 640x480 with 1 Axes>"
      ]
     },
     "metadata": {},
     "output_type": "display_data"
    }
   ],
   "source": [
    "#switch to a line plot \n",
    "plt.plot(GDP_per_capita['Year'].values , GDP_per_capita['Value'])\n",
    "\n",
    "#label the axes\n",
    "plt.xlabel('Year')\n",
    "plt.ylabel (GDP_per_capita['IndicatorName'].iloc[0])\n",
    "\n",
    "#label the figure\n",
    "plt.title(\"GDP Per Capita in Japan from 1960 to 2020\")\n",
    "\n",
    "#adding annotations\n",
    "#for y,x in zip(labor_force['Value'].values, labor_force['Year'].values):\n",
    "    #plt.annotate(f'{int(y)}\\n', xycoords = 'data', xy = (x,y), ha=\"center\", va=\"center\")\n",
    "    \n",
    "plt.show()"
   ]
  },
  {
   "cell_type": "markdown",
   "id": "e11dbbe8",
   "metadata": {},
   "source": [
    "### ScatterPlot for comparing GDP against Labor Force Participation \n",
    "\n",
    "First, we'll need to make sure we're looking at the same time frames"
   ]
  },
  {
   "cell_type": "code",
   "execution_count": 75,
   "id": "a934f456",
   "metadata": {},
   "outputs": [
    {
     "name": "stdout",
     "output_type": "stream",
     "text": [
      "GDP Min Year =  1960 max:  2019\n",
      "Labor Force Min Year =  1960 max:  2019\n"
     ]
    }
   ],
   "source": [
    "print(\"GDP Min Year = \", GDP_per_capita['Year'].min(), \"max: \", GDP_per_capita['Year'].max())\n",
    "print(\"Labor Force Min Year = \", labor_force['Year'].min(), \"max: \", labor_force['Year'].max())"
   ]
  },
  {
   "cell_type": "code",
   "execution_count": 80,
   "id": "6dd3dda9",
   "metadata": {},
   "outputs": [
    {
     "data": {
      "image/png": "[encoded data removed]",
      "text/plain": [
       "<Figure size 640x480 with 1 Axes>"
      ]
     },
     "metadata": {},
     "output_type": "display_data"
    }
   ],
   "source": [
    "%matplotlib inline\n",
    "fig, axis =plt.subplots()\n",
    "#Grid lines, Xlable, Ylabel \n",
    "\n",
    "axis.yaxis.grid(True)\n",
    "axis.set_title('Labor Force vs. GDP Per Capita' , fontsize = 10)\n",
    "axis.set_xlabel(GDP_per_capita['IndicatorName'].iloc[0], fontsize = 10)\n",
    "axis.set_ylabel('Total Labor Force Participation' , fontsize = 10)\n",
    "\n",
    "x = GDP_per_capita['Value']\n",
    "y = labor_force ['Value']\n",
    "\n",
    "plt.plot(x,y, 'o')\n",
    "m,b = np.polyfit(x,y,1)\n",
    "plt.plot(x,m*x+b)\n",
    "\n",
    "\n",
    "plt.show()"
   ]
  },
  {
   "cell_type": "code",
   "execution_count": 79,
   "id": "dd0fd46b",
   "metadata": {},
   "outputs": [
    {
     "data": {
      "text/plain": [
       "array([[ 1.        , -0.86906078],\n",
       "       [-0.86906078,  1.        ]])"
      ]
     },
     "execution_count": 79,
     "metadata": {},
     "output_type": "execute_result"
    }
   ],
   "source": [
    "#estimating the correlation\n",
    "np.corrcoef(GDP_per_capita['Value'], labor_force['Value'])"
   ]
  },
  {
   "cell_type": "code",
   "execution_count": null,
   "id": "2f63d9d7",
   "metadata": {},
   "outputs": [],
   "source": []
  }
 ],
 "metadata": {
  "kernelspec": {
   "display_name": "Python 3 (ipykernel)",
   "language": "python",
   "name": "python3"
  },
  "language_info": {
   "codemirror_mode": {
    "name": "ipython",
    "version": 3
   },
   "file_extension": ".py",
   "mimetype": "text/x-python",
   "name": "python",
   "nbconvert_exporter": "python",
   "pygments_lexer": "ipython3",
   "version": "3.9.13"
  }
 },
 "nbformat": 4,
 "nbformat_minor": 5
}
